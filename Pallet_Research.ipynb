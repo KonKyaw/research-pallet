{
  "nbformat": 4,
  "nbformat_minor": 0,
  "metadata": {
    "colab": {
      "name": "Pallet Research.ipynb",
      "provenance": [],
      "collapsed_sections": [],
      "authorship_tag": "ABX9TyMi9JFYBiVV4FJhQE+UNFSg",
      "include_colab_link": true
    },
    "kernelspec": {
      "name": "python3",
      "display_name": "Python 3"
    }
  },
  "cells": [
    {
      "cell_type": "markdown",
      "metadata": {
        "id": "view-in-github",
        "colab_type": "text"
      },
      "source": [
        "<a href=\"https://colab.research.google.com/github/KonKyaw/research-pallet/blob/main/Pallet_Research.ipynb\" target=\"_parent\"><img src=\"https://colab.research.google.com/assets/colab-badge.svg\" alt=\"Open In Colab\"/></a>"
      ]
    },
    {
      "cell_type": "code",
      "metadata": {
        "id": "-nowfbp5R7ST"
      },
      "source": [
        "\r\n",
        "#!/usr/bin/env python3"
      ],
      "execution_count": null,
      "outputs": []
    },
    {
      "cell_type": "code",
      "metadata": {
        "id": "YikGcH8nO6eP",
        "colab": {
          "base_uri": "https://localhost:8080/"
        },
        "outputId": "04008ac4-d5b5-4c31-df67-d01fae2f3730"
      },
      "source": [
        "#A2 load>   A   deliver>   B   unload>   B2     deliver>    A2...\r\n",
        "#loading is done with the speed of pallet flow (D)  \r\n",
        "\r\n",
        "A=50   #loaded pallet\r\n",
        "A2=50   #A prime, empty pallet\r\n",
        "Ta=0\r\n",
        "\r\n",
        "B=30   #loaded pallet\r\n",
        "B2=50   #B prime, empty pallet\r\n",
        "Tb=0\r\n",
        "\r\n",
        "D=10    #Pallet flow (No. of pallets per day)\r\n",
        "Fa=5    #Frequency in Days per delivery (Days) A to B\r\n",
        "Fb=7    #B2 to A2\r\n",
        "T=3     #Days taken for one delivery (Days)\r\n",
        "\r\n",
        "XFa=Fa-1   #Count to start delivery, initialized to start at the first day\r\n",
        "XFb=Fb-1\r\n",
        "XFTa=0      #Count until delivery reach to the other node\r\n",
        "XFTb=0\r\n",
        "\r\n",
        "for i in range (1,31):      #numbers of days to check\r\n",
        "    A2-=D\r\n",
        "    A+=D\r\n",
        "    B-=D\r\n",
        "    B2+=D\r\n",
        "    if A2<0:\r\n",
        "        print(\"not enough pallets at A2\")\r\n",
        "        break\r\n",
        "    if B<0:\r\n",
        "        print(\"not enough pallets at B\")\r\n",
        "        break\r\n",
        "    XFa+=1\r\n",
        "    XFb+=1\r\n",
        "#code for A to B\r\n",
        "    if XFTa!=0:\r\n",
        "        XFTa+=1\r\n",
        "    if XFTa==T:\r\n",
        "        B+=Ta\r\n",
        "        Ta=0\r\n",
        "        XFTa=0\r\n",
        "    if XFa==Fa:\r\n",
        "        XFa=0\r\n",
        "        XFTa=1\r\n",
        "        Ta=A-D\r\n",
        "        A=D\r\n",
        "\r\n",
        "#same code for B2 to A2\r\n",
        "    if XFTb!=0:\r\n",
        "        XFTb+=1\r\n",
        "    if XFTb==T:\r\n",
        "        A2+=Tb\r\n",
        "        Tb=0\r\n",
        "        XFTb=0\r\n",
        "    if XFb==Fb:\r\n",
        "        XFb=0\r\n",
        "        XFTb=1\r\n",
        "        Tb=B2-D\r\n",
        "        B2=D\r\n",
        "        \r\n",
        "\r\n",
        "    Total =A+A2+Ta+B+B2+Tb\r\n",
        "    #print(\"Day no.{}: A2={}, A={}, Ta={}, XFa={}, XFTa={}, B={}, B2={}, Tb={}, XFb={}, XFTb={}, Total={}\".format(i,A2,A,Ta,XFa,XFTa,B,B2,Tb,XFb,XFTb,Total))\r\n",
        "    print(\"Day no.{}: A2={}, A={}, Ta={}, B={}, B2={}, Tb={}, Total={};\".format(i,A2,A,Ta,B,B2,Tb,Total))"
      ],
      "execution_count": null,
      "outputs": [
        {
          "output_type": "stream",
          "text": [
            "Day no.1: A2=40, A=10, Ta=50, B=20, B2=10, Tb=50, Total=180;\n",
            "Day no.2: A2=30, A=20, Ta=50, B=10, B2=20, Tb=50, Total=180;\n",
            "Day no.3: A2=70, A=30, Ta=0, B=50, B2=30, Tb=0, Total=180;\n",
            "Day no.4: A2=60, A=40, Ta=0, B=40, B2=40, Tb=0, Total=180;\n",
            "Day no.5: A2=50, A=50, Ta=0, B=30, B2=50, Tb=0, Total=180;\n",
            "Day no.6: A2=40, A=10, Ta=50, B=20, B2=60, Tb=0, Total=180;\n",
            "Day no.7: A2=30, A=20, Ta=50, B=10, B2=70, Tb=0, Total=180;\n",
            "Day no.8: A2=20, A=30, Ta=0, B=50, B2=10, Tb=70, Total=180;\n",
            "Day no.9: A2=10, A=40, Ta=0, B=40, B2=20, Tb=70, Total=180;\n",
            "Day no.10: A2=70, A=50, Ta=0, B=30, B2=30, Tb=0, Total=180;\n",
            "Day no.11: A2=60, A=10, Ta=50, B=20, B2=40, Tb=0, Total=180;\n",
            "Day no.12: A2=50, A=20, Ta=50, B=10, B2=50, Tb=0, Total=180;\n",
            "Day no.13: A2=40, A=30, Ta=0, B=50, B2=60, Tb=0, Total=180;\n",
            "Day no.14: A2=30, A=40, Ta=0, B=40, B2=70, Tb=0, Total=180;\n",
            "Day no.15: A2=20, A=50, Ta=0, B=30, B2=10, Tb=70, Total=180;\n",
            "Day no.16: A2=10, A=10, Ta=50, B=20, B2=20, Tb=70, Total=180;\n",
            "Day no.17: A2=70, A=20, Ta=50, B=10, B2=30, Tb=0, Total=180;\n",
            "Day no.18: A2=60, A=30, Ta=0, B=50, B2=40, Tb=0, Total=180;\n",
            "Day no.19: A2=50, A=40, Ta=0, B=40, B2=50, Tb=0, Total=180;\n",
            "Day no.20: A2=40, A=50, Ta=0, B=30, B2=60, Tb=0, Total=180;\n",
            "Day no.21: A2=30, A=10, Ta=50, B=20, B2=70, Tb=0, Total=180;\n",
            "Day no.22: A2=20, A=20, Ta=50, B=10, B2=10, Tb=70, Total=180;\n",
            "Day no.23: A2=10, A=30, Ta=0, B=50, B2=20, Tb=70, Total=180;\n",
            "Day no.24: A2=70, A=40, Ta=0, B=40, B2=30, Tb=0, Total=180;\n",
            "Day no.25: A2=60, A=50, Ta=0, B=30, B2=40, Tb=0, Total=180;\n",
            "Day no.26: A2=50, A=10, Ta=50, B=20, B2=50, Tb=0, Total=180;\n",
            "Day no.27: A2=40, A=20, Ta=50, B=10, B2=60, Tb=0, Total=180;\n",
            "Day no.28: A2=30, A=30, Ta=0, B=50, B2=70, Tb=0, Total=180;\n",
            "Day no.29: A2=20, A=40, Ta=0, B=40, B2=10, Tb=70, Total=180;\n",
            "Day no.30: A2=10, A=50, Ta=0, B=30, B2=20, Tb=70, Total=180;\n"
          ],
          "name": "stdout"
        }
      ]
    }
  ]
}