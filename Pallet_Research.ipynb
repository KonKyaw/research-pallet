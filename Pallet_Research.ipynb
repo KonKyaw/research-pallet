{
  "nbformat": 4,
  "nbformat_minor": 0,
  "metadata": {
    "colab": {
      "name": "Pallet Research.ipynb",
      "provenance": [],
      "collapsed_sections": [],
      "authorship_tag": "ABX9TyOMqdHJpcs/pxTSmVA+K52J",
      "include_colab_link": true
    },
    "kernelspec": {
      "name": "python3",
      "display_name": "Python 3"
    }
  },
  "cells": [
    {
      "cell_type": "markdown",
      "metadata": {
        "id": "view-in-github",
        "colab_type": "text"
      },
      "source": [
        "<a href=\"https://colab.research.google.com/github/KonKyaw/research-pallet/blob/Test/Pallet_Research.ipynb\" target=\"_parent\"><img src=\"https://colab.research.google.com/assets/colab-badge.svg\" alt=\"Open In Colab\"/></a>"
      ]
    },
    {
      "cell_type": "code",
      "metadata": {
        "id": "-nowfbp5R7ST"
      },
      "source": [
        "\r\n",
        "#!/usr/bin/env python3"
      ],
      "execution_count": null,
      "outputs": []
    },
    {
      "cell_type": "markdown",
      "metadata": {
        "id": "pWUZiX-dmdih"
      },
      "source": [
        "Pt=Pt-1 + It - Ot\r\n",
        "\r\n",
        "#A (loaded)\r\n",
        "09:00 > O  \r\n",
        "17:00 > D / I\r\n",
        "\r\n",
        "#B (loaded)\r\n",
        "09:00 > I  \r\n",
        "17:00 > D / O \r\n",
        "\r\n",
        "#B1 (empty)\r\n",
        "16:00 > O\r\n",
        "17:00 > D / I\r\n",
        "\r\n",
        "#A1 (empty)\r\n",
        "16:00> I\r\n",
        "17:00> D / O"
      ]
    },
    {
      "cell_type": "code",
      "metadata": {
        "id": "tvEm79722A5I"
      },
      "source": [
        "import pandas as pd \r\n",
        "import matplotlib.pyplot as plt\r\n",
        "import seaborn as sns\r\n",
        "\r\n",
        "dict= {\"a\":[1, 2, 3], \r\n",
        "                    \"b\":[5, 6, 7],  \r\n",
        "                    \"c\":[1, 5, 4]}\r\n",
        "dict[\"a\"].append(4)\r\n",
        "dict[\"b\"].append(7)\r\n",
        "dict[\"c\"].append(8)\r\n",
        "df = pd.DataFrame(dict) \r\n",
        "\r\n",
        "sns.lineplot(data=df)   \r\n",
        "  "
      ],
      "execution_count": null,
      "outputs": []
    },
    {
      "cell_type": "code",
      "metadata": {
        "colab": {
          "base_uri": "https://localhost:8080/"
        },
        "id": "N1sN2_II-iY7",
        "outputId": "bc2eb37f-c2ea-4c62-ef88-bb685ae10faa"
      },
      "source": [
        "day=100\r\n",
        "hour=1\r\n",
        "time_sr=\"{:02}{:02}\".format(day,hour)\r\n",
        "#time_sr=format(day, '08')+format(hour,'02')\r\n",
        "time_sr = str(time_sr) #2001\r\n",
        "print(time_sr)\r\n",
        "#convert_time = pd.to_datetime(time_sr, format='%d%H')\r\n",
        "\r\n",
        "#print(convert_time.day)\r\n"
      ],
      "execution_count": null,
      "outputs": [
        {
          "output_type": "stream",
          "text": [
            "10001\n"
          ],
          "name": "stdout"
        }
      ]
    },
    {
      "cell_type": "markdown",
      "metadata": {
        "id": "54acEsZOhSSh"
      },
      "source": [
        "save time as 4 digit. and convert days to month if days>30"
      ]
    },
    {
      "cell_type": "code",
      "metadata": {
        "colab": {
          "base_uri": "https://localhost:8080/",
          "height": 847
        },
        "id": "nCqii00HPwSL",
        "outputId": "eded8fb7-71ee-4d85-fa4c-e96db906626b"
      },
      "source": [
        "#RAW\r\n",
        "#A1 load>   A   deliver>   B   unload>   B1     deliver>    A1...\r\n",
        "#loading is done with the speed of pallet flow (D)  \r\n",
        "import pandas as pd \r\n",
        "import matplotlib.pyplot as plt\r\n",
        "import seaborn as sns\r\n",
        "\r\n",
        "A=50   #loaded pallet\r\n",
        "A1=50   #A prime, empty pallet\r\n",
        "Ta=0\r\n",
        "\r\n",
        "B=30   #loaded pallet\r\n",
        "B1=50   #B prime, empty pallet\r\n",
        "Tb=0\r\n",
        "\r\n",
        "D=10    #Pallet flow (No. of pallets per day)\r\n",
        "Fa=5    #Frequency in Days per delivery (Days) A to B\r\n",
        "Fb=7    #B1 to A1\r\n",
        "T=3     #Days taken for one delivery (Days)\r\n",
        "\r\n",
        "XFa=Fa-1   #Count to start delivery, initialized to start at the first day\r\n",
        "XFb=Fb-1\r\n",
        "XFTa=0      #Count until delivery reach to the other node\r\n",
        "XFTb=0\r\n",
        "\r\n",
        "data={\"A\":[A],\"Ta\":[Ta],\"B\":[B],\"B1\":[B1], \"Tb\":[Tb], \"A1\":[A1]} #data dictionary\r\n",
        "\r\n",
        "Days=30 #No. of days\r\n",
        "\r\n",
        "for i in range (1,Days+1):  #numbers of days to check\r\n",
        "    for j in range (1,25):      #Hours\r\n",
        "        A1-=D\r\n",
        "        A+=D\r\n",
        "        B-=D\r\n",
        "        B1+=D\r\n",
        "        if A1<0:\r\n",
        "            print(\"not enough pallets at A1\")\r\n",
        "            break\r\n",
        "        if B<0:\r\n",
        "            print(\"not enough pallets at B\")\r\n",
        "            break\r\n",
        "        XFa+=1\r\n",
        "        XFb+=1\r\n",
        "        #code for A to B\r\n",
        "        if XFTa!=0:\r\n",
        "            XFTa+=1\r\n",
        "        if XFTa==T:\r\n",
        "            B+=Ta\r\n",
        "            Ta=0\r\n",
        "            XFTa=0\r\n",
        "        if XFa==Fa:\r\n",
        "            XFa=0\r\n",
        "            XFTa=1\r\n",
        "            Ta=A-D\r\n",
        "            A=D\r\n",
        "\r\n",
        "        #same code for B1 to A1\r\n",
        "        if XFTb!=0:\r\n",
        "            XFTb+=1\r\n",
        "        if XFTb==T:\r\n",
        "            A1+=Tb\r\n",
        "            Tb=0\r\n",
        "            XFTb=0\r\n",
        "        if XFb==Fb:\r\n",
        "            XFb=0\r\n",
        "            XFTb=1\r\n",
        "            Tb=B1-D\r\n",
        "            B1=D\r\n",
        "        \r\n",
        "\r\n",
        "    Total =A+A1+Ta+B+B1+Tb\r\n",
        "    \r\n",
        "    data[\"A\"].append(A)\r\n",
        "    data[\"Ta\"].append(Ta)\r\n",
        "    data[\"B\"].append(B)\r\n",
        "    data[\"B1\"].append(B1)\r\n",
        "    data[\"Tb\"].append(Tb)\r\n",
        "    data[\"A1\"].append(A1)\r\n",
        "   \r\n",
        "    #print(\"Day no.{}: A1={}, A={}, Ta={}, B={}, B1={}, Tb={}, Total={};\".format(i,A1,A,Ta,B,B1,Tb,Total))\r\n",
        "\r\n",
        "df = pd.DataFrame(data) \r\n",
        "print(df)\r\n",
        "\r\n",
        "#plt.figure(figsize=(20,20))\r\n",
        "sns.set_style(\"whitegrid\")\r\n",
        "#sns.lineplot(data=df)\r\n",
        "\r\n",
        "# Add title\r\n",
        "plt.title(\"Flow of Pallets for \"+str(Days)+\" days\")\r\n",
        "sns.lineplot(data=df, x=df.index, y=df[\"B\"] )\r\n",
        "#sns.lineplot(data=df['A'], label=\"A\"); sns.lineplot(data=df['B'], label=\"B\"); sns.lineplot (data=df['B1'], label=\"B1\"); sns.lineplot(data=df['A1'], label=\"A1\") \r\n",
        "#sns.lineplot(data=df['Ta'], label=\"Ta\"); sns.lineplot(data=df['Tb'], label=\"Tb\"); #For Ta and Tb\r\n",
        "\r\n",
        "# Add label for axes\r\n",
        "plt.xlabel(\"Time\"); plt.ylabel(\"Number of pallets\")\r\n",
        "\r\n",
        "#plt.plot(df); plt.grid(True); plt.legend()"
      ],
      "execution_count": null,
      "outputs": [
        {
          "output_type": "stream",
          "text": [
            "     A  Ta   B  B1  Tb  A1\n",
            "0   50   0  30  50   0  50\n",
            "1   40   0  40  30   0  70\n",
            "2   30   0  50  60   0  40\n",
            "3   20  50  10  20  70  10\n",
            "4   10  50  20  50   0  50\n",
            "5   50   0  30  10  70  20\n",
            "6   40   0  40  40   0  60\n",
            "7   30   0  50  70   0  30\n",
            "8   20  50  10  30   0  70\n",
            "9   10  50  20  60   0  40\n",
            "10  50   0  30  20  70  10\n",
            "11  40   0  40  50   0  50\n",
            "12  30   0  50  10  70  20\n",
            "13  20  50  10  40   0  60\n",
            "14  10  50  20  70   0  30\n",
            "15  50   0  30  30   0  70\n",
            "16  40   0  40  60   0  40\n",
            "17  30   0  50  20  70  10\n",
            "18  20  50  10  50   0  50\n",
            "19  10  50  20  10  70  20\n",
            "20  50   0  30  40   0  60\n",
            "21  40   0  40  70   0  30\n",
            "22  30   0  50  30   0  70\n",
            "23  20  50  10  60   0  40\n",
            "24  10  50  20  20  70  10\n",
            "25  50   0  30  50   0  50\n",
            "26  40   0  40  10  70  20\n",
            "27  30   0  50  40   0  60\n",
            "28  20  50  10  70   0  30\n",
            "29  10  50  20  30   0  70\n",
            "30  50   0  30  60   0  40\n"
          ],
          "name": "stdout"
        },
        {
          "output_type": "execute_result",
          "data": {
            "text/plain": [
              "Text(0, 0.5, 'Number of pallets')"
            ]
          },
          "metadata": {
            "tags": []
          },
          "execution_count": 77
        },
        {
          "output_type": "display_data",
          "data": {
            "image/png": "[encoded data removed]",
            "text/plain": [
              "<Figure size 432x288 with 1 Axes>"
            ]
          },
          "metadata": {
            "tags": []
          }
        }
      ]
    }
  ]
}